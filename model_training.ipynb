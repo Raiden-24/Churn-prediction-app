{
 "cells": [
  {
   "cell_type": "code",
   "execution_count": 1,
   "id": "e8c97fda",
   "metadata": {},
   "outputs": [
    {
     "name": "stdout",
     "output_type": "stream",
     "text": [
      "Libraries imported successfully.\n",
      "Dataset loaded successfully.\n",
      "Data preprocessing complete.\n"
     ]
    },
    {
     "name": "stderr",
     "output_type": "stream",
     "text": [
      "C:\\Users\\Amruth\\AppData\\Local\\Temp\\ipykernel_31656\\1121053087.py:21: FutureWarning: A value is trying to be set on a copy of a DataFrame or Series through chained assignment using an inplace method.\n",
      "The behavior will change in pandas 3.0. This inplace method will never work because the intermediate object on which we are setting values always behaves as a copy.\n",
      "\n",
      "For example, when doing 'df[col].method(value, inplace=True)', try using 'df.method({col: value}, inplace=True)' or df[col] = df[col].method(value) instead, to perform the operation inplace on the original object.\n",
      "\n",
      "\n",
      "  df['TotalCharges'].fillna(df['TotalCharges'].median(), inplace=True)\n"
     ]
    },
    {
     "name": "stdout",
     "output_type": "stream",
     "text": [
      "Model training complete.\n",
      "Model Accuracy: 0.79\n",
      "Model and columns have been saved successfully!\n",
      "The files 'churn_model.pkl' and 'churn_model_columns.pkl' are now in your project folder.\n"
     ]
    }
   ],
   "source": [
    "# 1. Import necessary libraries\n",
    "import pandas as pd\n",
    "from sklearn.model_selection import train_test_split\n",
    "from sklearn.ensemble import RandomForestClassifier\n",
    "from sklearn.metrics import accuracy_score\n",
    "import joblib\n",
    "\n",
    "print(\"Libraries imported successfully.\")\n",
    "\n",
    "# 2. Load the Dataset\n",
    "df = pd.read_csv('WA_Fn-UseC_-Telco-Customer-Churn.csv')\n",
    "print(\"Dataset loaded successfully.\")\n",
    "\n",
    "# 3. Preprocess the Data\n",
    "# Drop customerID as it is not a predictive feature\n",
    "df = df.drop('customerID', axis=1)\n",
    "\n",
    "# Convert 'TotalCharges' to a numeric type, coercing errors to NaN\n",
    "df['TotalCharges'] = pd.to_numeric(df['TotalCharges'], errors='coerce')\n",
    "# Fill any resulting NaN values (for new customers) with the median\n",
    "df['TotalCharges'].fillna(df['TotalCharges'].median(), inplace=True)\n",
    "\n",
    "# Convert binary categorical variables to 0s and 1s for the model\n",
    "# Using a loop for efficiency\n",
    "for col in ['gender', 'Partner', 'Dependents', 'PhoneService', 'PaperlessBilling', 'Churn']:\n",
    "    if col in df.columns:\n",
    "        df[col] = df[col].apply(lambda x: 1 if x == 'Yes' or x == 'Male' else 0)\n",
    "\n",
    "# Use one-hot encoding for multi-category columns. This creates new columns\n",
    "# for each category, which is essential for the model to understand them.\n",
    "df = pd.get_dummies(df, columns=[\n",
    "    'MultipleLines', 'InternetService', 'OnlineSecurity', 'OnlineBackup',\n",
    "    'DeviceProtection', 'TechSupport', 'StreamingTV', 'StreamingMovies',\n",
    "    'Contract', 'PaymentMethod'\n",
    "], drop_first=True)\n",
    "\n",
    "print(\"Data preprocessing complete.\")\n",
    "\n",
    "# 4. Define Features (X) and Target (y)\n",
    "X = df.drop('Churn', axis=1)\n",
    "y = df['Churn']\n",
    "\n",
    "# 5. Split data into training and testing sets\n",
    "X_train, X_test, y_train, y_test = train_test_split(X, y, test_size=0.2, random_state=42)\n",
    "\n",
    "# 6. Initialize and Train the Random Forest Model\n",
    "# n_estimators=100 means the model is built from 100 decision trees\n",
    "model = RandomForestClassifier(n_estimators=100, random_state=42, n_jobs=-1)\n",
    "model.fit(X_train, y_train)\n",
    "print(\"Model training complete.\")\n",
    "\n",
    "# (Optional) Check the model's accuracy on the test data\n",
    "accuracy = model.score(X_test, y_test)\n",
    "print(f\"Model Accuracy: {accuracy:.2f}\")\n",
    "\n",
    "# 7. Save the Trained Model and the Column List\n",
    "# This is the most crucial step for our app\n",
    "joblib.dump(model, 'churn_model.pkl')\n",
    "model_columns = list(X.columns)\n",
    "joblib.dump(model_columns, 'churn_model_columns.pkl')\n",
    "\n",
    "print(\"Model and columns have been saved successfully!\")\n",
    "print(\"The files 'churn_model.pkl' and 'churn_model_columns.pkl' are now in your project folder.\")"
   ]
  },
  {
   "cell_type": "code",
   "execution_count": 4,
   "id": "5667af4a",
   "metadata": {},
   "outputs": [
    {
     "name": "stdout",
     "output_type": "stream",
     "text": [
      "Confusion Matrix:\n",
      "[[945  91]\n",
      " [203 170]]\n",
      "\n",
      "Classification Report:\n",
      "              precision    recall  f1-score   support\n",
      "\n",
      "   Not Churn       0.82      0.91      0.87      1036\n",
      "       Churn       0.65      0.46      0.54       373\n",
      "\n",
      "    accuracy                           0.79      1409\n",
      "   macro avg       0.74      0.68      0.70      1409\n",
      "weighted avg       0.78      0.79      0.78      1409\n",
      "\n",
      "\n",
      "Classification report saved to 'classification_report.txt'\n"
     ]
    }
   ],
   "source": [
    "from sklearn.metrics import classification_report, confusion_matrix\n",
    "\n",
    "# Make predictions on the test data (if you haven't already)\n",
    "y_pred = model.predict(X_test)\n",
    "\n",
    "# Print the Confusion Matrix\n",
    "print(\"Confusion Matrix:\")\n",
    "print(confusion_matrix(y_test, y_pred))\n",
    "\n",
    "# Print the full Classification Report\n",
    "print(\"\\nClassification Report:\")\n",
    "print(classification_report(y_test, y_pred, target_names=['Not Churn', 'Churn']))\n",
    "# (This code goes at the end of your evaluation cell in the notebook)\n",
    "\n",
    "report = classification_report(y_test, y_pred, target_names=['Not Churn', 'Churn'])\n",
    "\n",
    "# Save the report to a text file\n",
    "with open(\"classification_report.txt\", \"w\") as file:\n",
    "    file.write(report)\n",
    "\n",
    "print(\"\\nClassification report saved to 'classification_report.txt'\")"
   ]
  }
 ],
 "metadata": {
  "kernelspec": {
   "display_name": "Python 3",
   "language": "python",
   "name": "python3"
  },
  "language_info": {
   "codemirror_mode": {
    "name": "ipython",
    "version": 3
   },
   "file_extension": ".py",
   "mimetype": "text/x-python",
   "name": "python",
   "nbconvert_exporter": "python",
   "pygments_lexer": "ipython3",
   "version": "3.13.1"
  }
 },
 "nbformat": 4,
 "nbformat_minor": 5
}
